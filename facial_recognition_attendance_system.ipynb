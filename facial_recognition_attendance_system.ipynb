{
  "cells": [
    {
      "cell_type": "code",
      "execution_count": null,
      "metadata": {
        "id": "C7cAhJvg4SPg"
      },
      "outputs": [],
      "source": [
        "from google.colab import drive\n",
        "drive.mount(\"/content/drive/\")"
      ]
    },
    {
      "cell_type": "code",
      "execution_count": null,
      "metadata": {
        "id": "ysR1oqS7XHkH"
      },
      "outputs": [],
      "source": [
        "!pip install face_recognition\n",
        "!pip install docopt"
      ]
    },
    {
      "cell_type": "code",
      "execution_count": null,
      "metadata": {
        "id": "qpXD2If_4UJU"
      },
      "outputs": [],
      "source": [
        "from re import T\n",
        "from IPython.display import display, Javascript\n",
        "from google.colab.output import eval_js\n",
        "from base64 import b64decode\n",
        "from datetime import datetime \n",
        "\n",
        "\n",
        "def take_photo(filename, quality=0.8):\n",
        "  js = Javascript('''\n",
        "    async function takePhoto(quality) {\n",
        "      const div = document.createElement('div');\n",
        "      const capture = document.createElement('button');\n",
        "      capture.textContent = 'Capture';\n",
        "      div.appendChild(capture);\n",
        "\n",
        "      const video = document.createElement('video');\n",
        "      video.style.display = 'block';\n",
        "      const stream = await navigator.mediaDevices.getUserMedia({video: true});\n",
        "\n",
        "      document.body.appendChild(div);\n",
        "      div.appendChild(video);\n",
        "      video.srcObject = stream;\n",
        "      await video.play();\n",
        "\n",
        "      // Resize the output to fit the video element.\n",
        "      google.colab.output.setIframeHeight(document.documentElement.scrollHeight, true);\n",
        "\n",
        "      // Wait for Capture to be clicked.\n",
        "      await new Promise((resolve) => capture.onclick = resolve);\n",
        "\n",
        "      const canvas = document.createElement('canvas');\n",
        "      canvas.width = video.videoWidth;\n",
        "      canvas.height = video.videoHeight;\n",
        "      canvas.getContext('2d').drawImage(video, 0, 0);\n",
        "      stream.getVideoTracks()[0].stop();\n",
        "      div.remove();\n",
        "      return canvas.toDataURL('image/jpeg', quality);\n",
        "    }\n",
        "    ''')\n",
        "  display(js)\n",
        "  data = eval_js('takePhoto({})'.format(quality))\n",
        "  binary = b64decode(data.split(',')[1])\n",
        "  with open(f\"/content/drive/MyDrive/face_recognition/students_present_in_class/{filename}\", 'wb') as f:\n",
        "    f.write(binary)\n",
        "  return filename\n"
      ]
    },
    {
      "cell_type": "code",
      "execution_count": null,
      "metadata": {
        "id": "yvpeDDzqN2WI"
      },
      "outputs": [],
      "source": [
        "import face_recognition\n",
        "import cv2\n",
        "import os\n",
        "from google.colab.patches import cv2_imshow \n",
        "from sklearn import svm\n",
        "from docopt import docopt\n",
        "import numpy as np\n",
        "from datetime import datetime\n",
        "from IPython.display import Image\n",
        "from datetime import date\n",
        "import pytz\n",
        "\n",
        "def read_img(path):\n",
        "  img=cv2.imread(path)\n",
        "  (h,w)=img.shape[:2]\n",
        "  width=500\n",
        "  ratio=width/float(w)\n",
        "  height=int(ratio*h)\n",
        "  return cv2.resize(img,(width, height))\n",
        "\n",
        "def face_recognize():\n",
        "    student_encoding=[]\n",
        "    student_usn=[]\n",
        "    date_today=date.today().strftime(\"%d-%m-%Y\")\n",
        "    student_images='/content/drive/MyDrive/face_recognition/students_photos'\n",
        "    present_images=f\"/content/drive/MyDrive/face_recognition/class_images\"\n",
        "    \n",
        "    for file in os.listdir(student_images):\n",
        "      student_img=read_img(student_images+'/'+file)\n",
        "      #student_img=face_recognition.load_image_file(student_images+'/'+file)\n",
        "      img_encode=face_recognition.face_encodings(student_img)[0]\n",
        "      student_encoding.append(img_encode)\n",
        "      student_usn.append(file.split('.')[0])\n",
        "    face_names=[]\n",
        "    for file in os.listdir(present_images):\n",
        "        if ((file.split(\":\")[0])==(datetime.now().strftime(\"%Y-%m-%d %H\"))):\n",
        "          class_img=read_img(present_images+'/'+file)\n",
        "          #class_img=face_recognition.load_image_file(present_images+'/'+file)\n",
        "          face_locations = face_recognition.face_locations(class_img)\n",
        "          no = len(face_locations)\n",
        "          print(\"Number of faces detected: \", no)\n",
        "          face_encodings=face_recognition.face_encodings(class_img,face_locations)\n",
        "          for face_encoding in face_encodings:\n",
        "              matches = face_recognition.compare_faces(student_encoding,face_encoding)\n",
        "              face_distances = face_recognition.face_distance(student_encoding,face_encoding)\n",
        "              name='Unknown'\n",
        "              best_match_index = np.argmin(face_distances)\n",
        "              if matches[best_match_index]:\n",
        "                    name = student_usn[best_match_index]\n",
        "              face_names.append(name)\n",
        "    return face_names"
      ]
    },
    {
      "cell_type": "code",
      "execution_count": 84,
      "metadata": {
        "id": "KbnRsHCdNzrZ"
      },
      "outputs": [],
      "source": [
        "import shutil\n",
        "import os\n",
        "\n",
        "def copy_file():\n",
        "  present_images='/content/drive/MyDrive/face_recognition/students_present_in_class'\n",
        "  destination=f\"/content/drive/MyDrive/face_recognition/class_images\"\n",
        "  for file in os.listdir(present_images):\n",
        "    shutil.move(present_images+'/'+file,destination)\n",
        "\n",
        "def remove_img():\n",
        "    present_images='/content/drive/MyDrive/face_recognition/students_present_in_class'\n",
        "    for f in os.listdir(present_images):\n",
        "      os.remove(present_images+'/'+f)"
      ]
    },
    {
      "cell_type": "code",
      "execution_count": 85,
      "metadata": {
        "id": "RllIoHBZNv-C"
      },
      "outputs": [],
      "source": [
        "import pandas as pd\n",
        "from datetime import datetime\n",
        "from datetime import date\n",
        "import calendar\n",
        "import pytz\n",
        "\n",
        "def create_usn_list():\n",
        "  l=[]\n",
        "  for i in range(71,144):\n",
        "    if i<100:\n",
        "      l.append(f\"1NH20AI0{i}\")\n",
        "    else:\n",
        "      l.append(f\"1NH20AI{i}\")\n",
        "  return(l)\n",
        "\n",
        "def present_absent(present_usn_list,usn_list,df,period):\n",
        "  if df.empty:\n",
        "      data=len(usn_list)*[\"Absent\"]\n",
        "      attendance=pd.DataFrame(data,columns=[period],index=usn_list)\n",
        "  else:\n",
        "      attendance=df\n",
        "      attendance[period]=len(usn_list)*[\"Absent\"]\n",
        "  if period:\n",
        "      for rowIndex, row in attendance.iterrows(): #iterate over rows\n",
        "          for columnIndex, value in row.items():\n",
        "              for usn in present_usn_list:\n",
        "                if (rowIndex==usn) and (columnIndex==period):\n",
        "                    attendance.at[rowIndex,columnIndex]=\"Present\" \n",
        "  else:\n",
        "    print(\"no period found\")\n",
        "  return(attendance)\n",
        "  \n",
        "def mark_attendance(df):\n",
        "  b1_timetable={\n",
        "      \"9.00\":[\"math\",\"math\",\"java\",\"math\",\"dbms\"],\n",
        "      \"10.00\":[\"ds\",\"java\",\"dbms\",\"dbms lab\",\"ds\"],\n",
        "      \"11.10\":[\"dbms\",\"ds\",\"math\",\"dbms lab\",\"java\"],\n",
        "      \"12.10\":[\"esa\",\"dbms\",\"ds\",\"dbms lab\",\"math\"]\n",
        "  }\n",
        "  b2_timetable={\n",
        "      \"9.00\":[\"math\",\"math\",\"java\",\"math\",\"dbms\"],\n",
        "      \"10.00\":[\"ds\",\"java\",\"dbms\",\"java lab\",\"ds\"],\n",
        "      \"11.10\":[\"dbms\",\"ds\",\"math\",\"java lab\",\"java\"],\n",
        "      \"12.10\":[\"esa\",\"dbms\",\"ds\",\"java lab\",\"math\"]\n",
        "  }\n",
        "  \n",
        "  days=[\"monday\",\"tuesday\",\"wednesday\",\"thursday\",\"friday\"]\n",
        "  tb1=pd.DataFrame(b1_timetable,index=days)\n",
        "  tb2=pd.DataFrame(b2_timetable,index=days)\n",
        "  students_usn=student_usn=create_usn_list()\n",
        "  #data=[len(students_usn)*[\"Absent\"],len(students_usn)*[\"Absent\"],len(students_usn)*[\"Absent\"],len(students_usn)*[\"Absent\"]]\n",
        "  present_usn=face_recognize()\n",
        "  #weekday=calendar.day_name[date.today().weekday()]\n",
        "  weekday=\"Thursday\"\n",
        "  timezone = pytz.timezone('Asia/Kolkata')\n",
        "  #time=datetime.strftime(datetime.now(tz = timezone),\"%H.%M\")\n",
        "  time=\"10.11\"\n",
        "  b1_classes=dict(tb1.loc[weekday.lower()])\n",
        "  b2_classes=dict(tb2.loc[weekday.lower()])\n",
        "  \n",
        "  for item in b1_classes:\n",
        "    if float(time)>=float(item):\n",
        "      b1_period=b1_classes[item]\n",
        "  for item in b1_classes:\n",
        "    if float(time)>=float(item):\n",
        "      b2_period=b2_classes[item]\n",
        "  if weekday.lower()==\"thursday\":\n",
        "    b1_usn_list=students_usn[0:(len(students_usn)//2)]\n",
        "    b2_usn_list=students_usn[(len(students_usn)//2):]\n",
        "    df_1 = df.loc[:(b1_usn_list[-1]),:]\n",
        "    df_2 = df.loc[(b2_usn_list[0]):(b2_usn_list[-1]),:]\n",
        "    at1=present_absent(present_usn,b1_usn_list,df_1,b1_period)\n",
        "    at2=present_absent(present_usn,b2_usn_list,df_2,b2_period)\n",
        "    attendance=pd.concat([at1,at2],axis=0)\n",
        "  else:\n",
        "    attendance=present_absent(present_usn,students_usn,df,b1_period)\n",
        "  return attendance           \n",
        "  "
      ]
    },
    {
      "cell_type": "code",
      "source": [
        "import pandas as pd\n",
        "import os\n",
        "def mark_attendance_on_excel():\n",
        "  fpath=\"/content/drive/MyDrive/face_recognition/excel sheets\"\n",
        "  if(len(os.listdir(\"/content/drive/MyDrive/face_recognition/excel sheets\"))==0):  \n",
        "    path=fpath+\"/\"+datetime.strftime(datetime.today(),\"%d-%m-%Y\")+\".xlsx\"\n",
        "    df=pd.DataFrame([])\n",
        "    attendance=mark_attendance(df)\n",
        "    attendance.to_excel(path)\n",
        "  else:\n",
        "    excelsheet_list=os.listdir(\"/content/drive/MyDrive/face_recognition/excel sheets\")\n",
        "    today=datetime.strftime(datetime.today(),\"%d-%m-%Y\")+\".xlsx\"\n",
        "    if today in excelsheet_list:\n",
        "        path=fpath+\"/\"+datetime.strftime(datetime.today(),\"%d-%m-%Y\")+\".xlsx\"\n",
        "        df=pd.read_excel(path,sheet_name=0,index_col=0)\n",
        "        attendance=mark_attendance(df)\n",
        "        attendance.to_excel(path)  \n",
        "    else:\n",
        "        path=fpath+\"/\"+datetime.strftime(datetime.today(),\"%d-%m-%Y\")+\".xlsx\"\n",
        "        df=pd.DataFrame([])\n",
        "        attendance=mark_attendance(df)\n",
        "        attendance.to_excel(path)"
      ],
      "metadata": {
        "id": "ZmMsyP0LDbv8"
      },
      "execution_count": 86,
      "outputs": []
    },
    {
      "cell_type": "code",
      "source": [
        "timezone = pytz.timezone('Asia/Kolkata')\n",
        "datetime.strftime(datetime.now(tz = timezone),\"%Y-%m-%d %H:%M:%S.%f\")"
      ],
      "metadata": {
        "colab": {
          "base_uri": "https://localhost:8080/",
          "height": 37
        },
        "id": "Umg3-OnKPht9",
        "outputId": "5167fb4b-a5e6-4a4d-ad8c-fd2db11c530a"
      },
      "execution_count": 89,
      "outputs": [
        {
          "output_type": "execute_result",
          "data": {
            "text/plain": [
              "'2022-06-30 00:06:41.714854'"
            ],
            "application/vnd.google.colaboratory.intrinsic+json": {
              "type": "string"
            }
          },
          "metadata": {},
          "execution_count": 89
        }
      ]
    },
    {
      "cell_type": "code",
      "execution_count": 87,
      "metadata": {
        "id": "PH3RlSywUoax",
        "colab": {
          "base_uri": "https://localhost:8080/",
          "height": 442
        },
        "outputId": "7cc0f0f5-b8fa-467a-ca65-e5238d617b6c"
      },
      "outputs": [
        {
          "name": "stdout",
          "output_type": "stream",
          "text": [
            "Enter 1 if u want to click a photo else 01\n"
          ]
        },
        {
          "output_type": "display_data",
          "data": {
            "text/plain": [
              "<IPython.core.display.Javascript object>"
            ],
            "application/javascript": [
              "\n",
              "    async function takePhoto(quality) {\n",
              "      const div = document.createElement('div');\n",
              "      const capture = document.createElement('button');\n",
              "      capture.textContent = 'Capture';\n",
              "      div.appendChild(capture);\n",
              "\n",
              "      const video = document.createElement('video');\n",
              "      video.style.display = 'block';\n",
              "      const stream = await navigator.mediaDevices.getUserMedia({video: true});\n",
              "\n",
              "      document.body.appendChild(div);\n",
              "      div.appendChild(video);\n",
              "      video.srcObject = stream;\n",
              "      await video.play();\n",
              "\n",
              "      // Resize the output to fit the video element.\n",
              "      google.colab.output.setIframeHeight(document.documentElement.scrollHeight, true);\n",
              "\n",
              "      // Wait for Capture to be clicked.\n",
              "      await new Promise((resolve) => capture.onclick = resolve);\n",
              "\n",
              "      const canvas = document.createElement('canvas');\n",
              "      canvas.width = video.videoWidth;\n",
              "      canvas.height = video.videoHeight;\n",
              "      canvas.getContext('2d').drawImage(video, 0, 0);\n",
              "      stream.getVideoTracks()[0].stop();\n",
              "      div.remove();\n",
              "      return canvas.toDataURL('image/jpeg', quality);\n",
              "    }\n",
              "    "
            ]
          },
          "metadata": {}
        },
        {
          "output_type": "stream",
          "name": "stdout",
          "text": [
            "Enter 1 if u want to click a photo else 00\n",
            "Enter 1 to mark attendance1\n",
            "Number of faces detected:  4\n",
            "Number of faces detected:  3\n",
            "Number of faces detected:  0\n",
            "Number of faces detected:  1\n",
            "Number of faces detected:  1\n",
            "1\n",
            "2\n",
            "3\n",
            "           dbms lab java lab\n",
            "1NH20AI071   Absent      NaN\n",
            "1NH20AI072  Present      NaN\n",
            "1NH20AI073   Absent      NaN\n",
            "1NH20AI074  Present      NaN\n",
            "1NH20AI075   Absent      NaN\n",
            "...             ...      ...\n",
            "1NH20AI139      NaN   Absent\n",
            "1NH20AI140      NaN   Absent\n",
            "1NH20AI141      NaN   Absent\n",
            "1NH20AI142      NaN   Absent\n",
            "1NH20AI143      NaN   Absent\n",
            "\n",
            "[73 rows x 2 columns]\n"
          ]
        }
      ],
      "source": [
        "import time\n",
        "from datetime import datetime\n",
        "mark=0\n",
        "choice=int(input(\"Enter 1 if u want to click a photo else 0\"))\n",
        "timezone = pytz.timezone('Asia/Kolkata')\n",
        "try:        \n",
        "  while choice==1:\n",
        "    filename=datetime.strftime(datetime.now(tz = timezone),\"%Y-%m-%d %H:%M:%S.%f\")+\".jpg\"\n",
        "    take_photo(filename)\n",
        "    time.sleep(10)\n",
        "    copy_file()\n",
        "    remove_img()\n",
        "    time.sleep(10)\n",
        "    choice=int(input(\"Enter 1 if u want to click a photo else 0\"))\n",
        "    if choice==0:\n",
        "      mark=int(input(\"Enter 1 to mark attendance\"))\n",
        "  if mark==1:\n",
        "    mark_attendance_on_excel()\n",
        "    \n",
        "except Exception as err:\n",
        "  # Errors will be thrown if the user does not have a webcam or if they do not\n",
        "  # grant the page permission to access it.\n",
        "  print(str(err))"
      ]
    }
  ],
  "metadata": {
    "accelerator": "GPU",
    "colab": {
      "name": "facial recognition attendance system.ipynb",
      "provenance": [],
      "collapsed_sections": []
    },
    "gpuClass": "standard",
    "kernelspec": {
      "display_name": "Python 3",
      "name": "python3"
    },
    "language_info": {
      "name": "python"
    }
  },
  "nbformat": 4,
  "nbformat_minor": 0
}